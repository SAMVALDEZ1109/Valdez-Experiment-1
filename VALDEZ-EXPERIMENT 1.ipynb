{
 "cells": [
  {
   "cell_type": "markdown",
   "id": "25184468-425f-4bff-99e1-052780385cb4",
   "metadata": {},
   "source": [
    "#######EXPERIMENT 1"
   ]
  },
  {
   "cell_type": "markdown",
   "id": "3bf64496-91a1-4b3c-b538-2ccfda38227f",
   "metadata": {},
   "source": [
    "##Problem 1 : Alphabet Soup Problem"
   ]
  },
  {
   "cell_type": "code",
   "execution_count": 161,
   "id": "af433547-49bf-4586-a17f-7a9e4ea69333",
   "metadata": {},
   "outputs": [
    {
     "name": "stdout",
     "output_type": "stream",
     "text": [
      " aaacddeggimmnnoprrv\n"
     ]
    }
   ],
   "source": [
    "#sort letters of string into alphabetical order\n",
    "\n",
    "def sortString(s):\n",
    "    return ''.join(sorted(s)) #join sorted characters into a string\n",
    "\n",
    "s = 'advanced programming'\n",
    "print(sortString(s)) #print output"
   ]
  },
  {
   "cell_type": "code",
   "execution_count": 163,
   "id": "900a49e4-ca40-4b42-a9b9-0f7d76386160",
   "metadata": {},
   "outputs": [
    {
     "name": "stdout",
     "output_type": "stream",
     "text": [
      " cceeeeeggiiilnnnnorrst\n"
     ]
    }
   ],
   "source": [
    "#sort letters of string into alphabetical order\n",
    "\n",
    "def sortString(s):\n",
    "    return ''.join(sorted(s)) #join sorted characters into a string\n",
    "\n",
    "s = 'electronics engineering'\n",
    "print(sortString(s)) #print output"
   ]
  },
  {
   "cell_type": "code",
   "execution_count": 167,
   "id": "0600ac55-1bc1-407c-9472-8ec9170ce380",
   "metadata": {},
   "outputs": [
    {
     "name": "stdout",
     "output_type": "stream",
     "text": [
      "aehlsy\n"
     ]
    }
   ],
   "source": [
    "#sort letters of string into alphabetical order\n",
    "\n",
    "def sortString(s):\n",
    "    return ''.join(sorted(s)) #join sorted characters into a string\n",
    "\n",
    "s = 'ashley'\n",
    "print(sortString(s)) #print output"
   ]
  },
  {
   "cell_type": "markdown",
   "id": "6b71bb7b-a245-4706-b632-d05c4662e123",
   "metadata": {},
   "source": [
    "###Problem 2: Emoticon Problem"
   ]
  },
  {
   "cell_type": "code",
   "execution_count": 122,
   "id": "8fe81c8a-4de0-4b18-9813-91a0f9b96503",
   "metadata": {},
   "outputs": [],
   "source": [
    "#replacing words with emoticons\n",
    "\n",
    "def emoticons(sentence):\n",
    "    emoticon_dict = {\n",
    "        \"smile\" : \":)\",\n",
    "        \"grin\" : \":D\",\n",
    "        \"sad\" : \":((\",\n",
    "        \"mad\" : \">:(\"\n",
    "    }\n",
    "    \n",
    "    #split sentence into words\n",
    "    words = sentence.split()\n",
    "    \n",
    "    #replace words with corresponding emoticons\n",
    "    replaced_emoticons = \" \".join ([emoticon_dict.get(word,word) for word in words])\n",
    "\n",
    "    return replaced_emoticons"
   ]
  },
  {
   "cell_type": "code",
   "execution_count": 128,
   "id": "c4f47741-354c-48f8-aee3-091f1eda245c",
   "metadata": {},
   "outputs": [
    {
     "name": "stdout",
     "output_type": "stream",
     "text": [
      "You make me :)\n"
     ]
    }
   ],
   "source": [
    "#Example sentence for smile\n",
    "\n",
    "sentence = \"You make me smile\"\n",
    "result = emoticons(sentence)  \n",
    "print(result)"
   ]
  },
  {
   "cell_type": "code",
   "execution_count": 132,
   "id": "60463aad-149c-4dd3-9320-c26fb77f5fa2",
   "metadata": {},
   "outputs": [
    {
     "name": "stdout",
     "output_type": "stream",
     "text": [
      "She has beautiful eyes and a wide :D\n"
     ]
    }
   ],
   "source": [
    "#Example sentence for grin\n",
    "\n",
    "sentence = \"She has beautiful eyes and a wide grin\"\n",
    "result = emoticons(sentence)\n",
    "print(result)"
   ]
  },
  {
   "cell_type": "code",
   "execution_count": 136,
   "id": "639f43a9-e536-4902-909f-5c92fcdbf2d2",
   "metadata": {},
   "outputs": [
    {
     "name": "stdout",
     "output_type": "stream",
     "text": [
      "I am :(( when she goes back to her province\n"
     ]
    }
   ],
   "source": [
    "#Example sentence for sad\n",
    "\n",
    "sentence = \"I am sad when she goes back to her province\"\n",
    "result = emoticons(sentence)\n",
    "print(result)"
   ]
  },
  {
   "cell_type": "code",
   "execution_count": 142,
   "id": "cea8eaec-2f85-4d9e-a00f-96edc7b5c34d",
   "metadata": {},
   "outputs": [
    {
     "name": "stdout",
     "output_type": "stream",
     "text": [
      "I get >:( when people walk slowly\n"
     ]
    }
   ],
   "source": [
    "#Example sentence for mad\n",
    "\n",
    "sentence = \"I get mad when people walk slowly\"\n",
    "result = emoticons(sentence)\n",
    "print(result)"
   ]
  },
  {
   "cell_type": "markdown",
   "id": "821aef5c-f330-49c6-979c-c03115427e14",
   "metadata": {},
   "source": [
    "###Problem 3: Unpacking List Problem"
   ]
  },
  {
   "cell_type": "code",
   "execution_count": 149,
   "id": "3a869075-3ef6-4643-ae6f-1fd32ae4161c",
   "metadata": {},
   "outputs": [
    {
     "name": "stdout",
     "output_type": "stream",
     "text": [
      "first: 1, middle: [2, 3, 4, 5], last: 6\n"
     ]
    }
   ],
   "source": [
    "#example list of numbers\n",
    "\n",
    "my_list = [1,2,3,4,5,6]\n",
    "\n",
    "#unpacking the list\n",
    "first, *middle, last = my_list\n",
    "\n",
    "print (f\"first: {first}, middle: {middle}, last: {last}\")\n"
   ]
  },
  {
   "cell_type": "code",
   "execution_count": 151,
   "id": "c009f38d-c479-46bc-8d59-221ff06fc6d4",
   "metadata": {},
   "outputs": [
    {
     "name": "stdout",
     "output_type": "stream",
     "text": [
      "first: 1, middle: [1, 0, 9, 2], last: 3\n"
     ]
    }
   ],
   "source": [
    "#example list of numbers\n",
    "\n",
    "my_list = [1,1,0,9,2,3]\n",
    "\n",
    "#unpacking the list\n",
    "first, *middle, last = my_list\n",
    "\n",
    "print (f\"first: {first}, middle: {middle}, last: {last}\")\n"
   ]
  },
  {
   "cell_type": "code",
   "execution_count": 159,
   "id": "4500c365-8830-4247-89e9-cfabf29ae8f2",
   "metadata": {},
   "outputs": [
    {
     "name": "stdout",
     "output_type": "stream",
     "text": [
      "first: c++, middle: ['python', 'java'], last: visual basic\n"
     ]
    }
   ],
   "source": [
    "#example list of programming languages\n",
    "\n",
    "my_list = ['C++', 'Python', 'Java', 'Visual Basic']\n",
    "\n",
    "#unpacking the list\n",
    "first, *middle, last = my_list\n",
    "\n",
    "print (f\"first: {first}, middle: {middle}, last: {last}\")\n"
   ]
  },
  {
   "cell_type": "code",
   "execution_count": null,
   "id": "8201e920-058f-4d77-8ee9-764e303f6fbb",
   "metadata": {},
   "outputs": [],
   "source": []
  }
 ],
 "metadata": {
  "kernelspec": {
   "display_name": "Python 3 (ipykernel)",
   "language": "python",
   "name": "python3"
  },
  "language_info": {
   "codemirror_mode": {
    "name": "ipython",
    "version": 3
   },
   "file_extension": ".py",
   "mimetype": "text/x-python",
   "name": "python",
   "nbconvert_exporter": "python",
   "pygments_lexer": "ipython3",
   "version": "3.12.4"
  }
 },
 "nbformat": 4,
 "nbformat_minor": 5
}
